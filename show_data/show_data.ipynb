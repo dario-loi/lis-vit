{
 "cells": [
  {
   "cell_type": "code",
   "execution_count": 21,
   "metadata": {},
   "outputs": [
    {
     "name": "stdout",
     "output_type": "stream",
     "text": [
      "--2024-11-27 22:52:48--  https://www-i6.informatik.rwth-aachen.de/ftp/pub/rwth-phoenix/2016/phoenix-2014.v3.tar.gz\n",
      "Loaded CA certificate '/etc/ssl/certs/ca-certificates.crt'\n",
      "Resolving www-i6.informatik.rwth-aachen.de (www-i6.informatik.rwth-aachen.de)... 137.226.36.140\n",
      "Connecting to www-i6.informatik.rwth-aachen.de (www-i6.informatik.rwth-aachen.de)|137.226.36.140|:443... connected.\n",
      "GnuTLS: A TLS warning alert has been received.\n",
      "GnuTLS: received alert [112]: The server name sent was not recognized\n",
      "HTTP request sent, awaiting response... 200 OK\n",
      "Length: 56414976898 (53G) [application/x-gzip]\n",
      "Saving to: ‘data/phoenix-2014.v3.tar.gz’\n",
      "\n",
      "phoenix-2014.v3.tar 100%[===================>]  52,54G  58,3MB/s    in 15m 48s \n",
      "\n",
      "2024-11-27 23:08:36 (56,8 MB/s) - ‘data/phoenix-2014.v3.tar.gz’ saved [56414976898/56414976898]\n",
      "\n"
     ]
    }
   ],
   "source": [
    "!wget https://www-i6.informatik.rwth-aachen.de/ftp/pub/rwth-phoenix/2016/phoenix-2014.v3.tar.gz -P data/"
   ]
  },
  {
   "cell_type": "code",
   "execution_count": 28,
   "metadata": {},
   "outputs": [
    {
     "name": "stdout",
     "output_type": "stream",
     "text": [
      "1\n",
      "torch.Size([107, 3, 260, 210])\n",
      "torch.Size([10])\n",
      "[tensor([ 417,  715, 1061, 1115,  561,  921,  898, 1029, 1231,  601])]\n",
      "1\n",
      "torch.Size([90, 3, 260, 210])\n",
      "torch.Size([19])\n",
      "[tensor([ 998,  925,  751,   55,  129, 1088,  129,  873, 1088,    6,  898,  530,\n",
      "         289,  903,  997,  622, 1088,  997,  854])]\n",
      "1\n",
      "torch.Size([73, 3, 260, 210])\n",
      "torch.Size([11])\n",
      "[tensor([ 893,   55,  548,  748,  260, 1059,  167,  751,  898,  134,  931])]\n",
      "1\n",
      "torch.Size([86, 3, 260, 210])\n",
      "torch.Size([14])\n",
      "[tensor([ 959,  909,  134,  490,  824,  354,   92,  444,  751,   55, 1231,  444,\n",
      "          55,    6])]\n"
     ]
    }
   ],
   "source": [
    "from phoenix_datasets import PhoenixVideoTextDataset\n",
    "\n",
    "from torch.utils.data import DataLoader\n",
    "\n",
    "import os\n",
    "\n",
    "\n",
    "datapath = \"/home/dario/repos/lis-vit/project/data/phoenix-2014.v3/phoenix2014-release/phoenix-2014-multisigner\"\n",
    "\n",
    "\n",
    "dval = PhoenixVideoTextDataset(\n",
    "    # your path to this folder, download it from official website first.\n",
    "    root=datapath,\n",
    "    split=\"dev\",\n",
    "    p_drop=0.5,\n",
    "    random_drop=True,\n",
    ")\n",
    "\n",
    "vocab = dval.vocab\n",
    "inv_vocab = {v: k for k, v in vocab.table.items()}\n",
    "\n",
    "dl_val = DataLoader(\n",
    "    dval,\n",
    "    collate_fn=dval.collate_fn,\n",
    "    shuffle=False,\n",
    "    batch_size=1,\n",
    "    num_workers=3,\n",
    "    pin_memory=True,\n",
    ")\n",
    "\n",
    "for i, batch in enumerate(dl_val):\n",
    "    video = batch[\"video\"]\n",
    "    label = batch[\"text\"]\n",
    "\n",
    "    assert len(video) == len(label)\n",
    "\n",
    "    print(len(video))\n",
    "    print(video[0].shape)\n",
    "    print(label[0].shape)\n",
    "    print(label)\n",
    "\n",
    "    if i == 3:\n",
    "        break"
   ]
  },
  {
   "cell_type": "code",
   "execution_count": null,
   "metadata": {},
   "outputs": [
    {
     "data": {
      "text/plain": [
       "[417, 715, 1061, 1115, 561, 921, 898, 1029, 1231, 601]"
      ]
     },
     "execution_count": 49,
     "metadata": {},
     "output_type": "execute_result"
    }
   ],
   "source": []
  },
  {
   "cell_type": "code",
   "execution_count": 54,
   "metadata": {},
   "outputs": [
    {
     "data": {
      "text/plain": [
       "dict_keys(['A', 'AACHEN', 'AB', 'AB-JETZT', 'AB-PLUSPLUS', 'ABEND', 'ABER', 'ABFALLEN', 'ABSCHIED', 'ABSCHNITT', 'ABSINKEN', 'ABWECHSELN', 'ACH', 'ACHT', 'ACHTE', 'ACHTHUNDERT', 'ACHTUNG', 'ACHTZEHN', 'ACHTZIG', 'AEHNLCH', 'AEHNLICH', 'AENDERN', 'AFRIKA', 'AKTIV', 'AKTUELL', 'ALLE', 'ALLGAEU', 'ALLGEMEIN', 'ALPEN', 'ALPENRAND', 'ALPENTAL', 'ALS', 'ALSO', 'ALT', 'AM', 'AM-KUESTE', 'AM-MEER', 'AM-RAND', 'AM-TAG', 'AMERIKA', 'AN', 'ANDERE', 'ANDERE-MOEGLICHKEIT', 'ANDERS', 'ANFANG', 'ANGEMESSEN', 'ANGENEHM', 'ANGST', 'ANHALT', 'ANKOMMEN', 'ANSAMMELN', 'ANSCHAUEN', 'APRIL', 'ARM', 'ATLANTIK', 'AUCH', 'AUCH-NICHT', 'AUF', 'AUF-JEDEN-FALL', 'AUFBLUEHEN', 'AUFEINANDERTREFFEN', 'AUFFUELLEN', 'AUFHEITERN', 'AUFHOEREN', 'AUFKLAREN', 'AUFKOMMEN', 'AUFLOCKERUNG', 'AUFLOCKERUNG-PLUSPLUS', 'AUFLOESEN', 'AUFLOESEN-PLUSPLUS', 'AUFPASSEN', 'AUFTAUCHEN', 'AUFZIEHEN', 'AUFZIEHEN-PLUSPLUS', 'AUGUST', 'AUS', 'AUSEINANDER', 'AUSHALTEN', 'AUSNAHME', 'AUSRICHTEN', 'AUSSEHEN', 'AUSSERGEWOEHNLICH', 'AUSWAEHLEN-PLUSPLUS', 'AUTO', 'AUTOMATISCH', 'B', 'BAD', 'BADEN', 'BADEN-WUERTTEMBERG', 'BALD', 'BAUER', 'BAUM', 'BAYERN', 'BEDECKT', 'BEDEUTEN', 'BEDINGUNGEN', 'BEGINN', 'BEGRUESSEN', 'BEI-UNS', 'BEISEITE', 'BEISPIEL', 'BEKANNT', 'BEKANNTGEBEN', 'BEKOMMEN', 'BELAESTIGUNG', 'BELGIEN', 'BEOBACHTEN', 'BEREICH', 'BERG', 'BERGAB', 'BERGAUF', 'BERLIN', 'BERUF', 'BERUHIGEN', 'BESONDERS', 'BESPRECHEN', 'BESSER', 'BESSER-PLUSPLUS', 'BESTIMMT', 'BETROFFEN', 'BETT', 'BEWEGEN', 'BEWOELKT', 'BEWOELKT-PLUSPLUS', 'BIS', 'BIS-JETZT', 'BIS-MITTE', 'BIS-MORGEN', 'BISHER', 'BISSCHEN', 'BISSCHEN-PLUSPLUS', 'BITTE', 'BLATT', 'BLAU', 'BLEIBEN', 'BLEIBEN-GLEICH', 'BLITZ', 'BLOCKIEREN', 'BLUETE', 'BLUMEN-PLUSPLUS', 'BODEN', 'BODENSEE', 'BOEE', 'BRAND', 'BRANDENBURG', 'BRAUCHEN', 'BRAUN', 'BREMEN', 'BRINGEN', 'BRITANNIEN', 'BROCKEN', 'BRUCKBERG', 'BUNT', 'BURG', 'C', 'CHANCE', 'CHANCE-PLUSPLUS', 'CHAOS', 'D', 'DA', 'DABEI', 'DABEI-PLUSPLUS', 'DAENEMARK', 'DAFUER', 'DAMEN', 'DANACH', 'DANEBEN', 'DANN', 'DARAUF', 'DARUM', 'DARUNTER', 'DAS-IST-ES', 'DAS-WAR-ES', 'DASSELBE', 'DAUER', 'DAUERND', 'DAZU', 'DAZWISCHEN', 'DEMNAECHST', 'DENKEN', 'DESHALB', 'DESWEGEN', 'DEUTSCH', 'DEUTSCHLAND', 'DEUTSCHLANDRAUM', 'DEZEMBER', 'DICHT', 'DICK', 'DIENST', 'DIENSTAG', 'DIESE', 'DIESE-WOCHE', 'DIESMAL', 'DOCH', 'DOCH-SONST-NOCH', 'DONNER', 'DONNERSTAG', 'DRAUSSEN', 'DREHEN', 'DREI', 'DREI-MONATE', 'DREIDREISSIG', 'DREIHUNDERT', 'DREIMAL', 'DREISSIG', 'DREIZEHN', 'DRESDEN', 'DRITTE', 'DRUCK', 'DRUCKFLAECHE', 'DU', 'DUENN', 'DUESSELDORF', 'DUMM', 'DUNST', 'DURCH', 'DURCHEINANDER', 'DURCHGEHEND', 'DURCHSCHNITT', 'E', 'EBEN', 'ECHT', 'EIFEL', 'EIGENTLICH', 'EIN', 'EIN-BISSCHEN', 'EIN-JAHR', 'EIN-PAAR', 'EIN-WOCHE', 'EINE', 'EINFACH', 'EINFLUSS', 'EINHUNDERT', 'EINIGE', 'EINIGERMASSEN', 'EINLUSS', 'EINS', 'EINSCHRAENKEN', 'EINZELN-PLUSPLUS', 'EIS', 'EISEN', 'ELF', 'ELFTE', 'EMPFINDLICH', 'ENDE', 'ENDLICH', 'ENGLAND', 'ENORM', 'ENTFERNT', 'ENTHALTEN', 'ENTSCHULDIGUNG', 'ENTSPANNT', 'ENTWICKELN', 'ERDRUTSCH', 'ERFAHREN', 'ERFAHRUNG', 'ERFURT', 'ERHOEHEN', 'ERLEICHERT', 'ERSCHROCKEN', 'ERST', 'ERSTE', 'ERSTMAL', 'ERWARTEN', 'ERZ', 'ES-BEDEUTET', 'ES-GIBT', 'ETWAS', 'EUCH', 'EUROPA', 'EWIG', 'EXTREM', 'F', 'FACH', 'FAHREN', 'FALLEN', 'FAST', 'FEBRUAR', 'FEHLT', 'FEIER', 'FELD', 'FERTIG', 'FEST', 'FEUCHT', 'FINNLAND', 'FLACH', 'FLAECHENDECKEND', 'FLIESSEN', 'FLOCKEN', 'FLUSS', 'FLUT', 'FOEHN', 'FOLGE', 'FRAGEZEICHEN', 'FRANKFURT', 'FRANKREICH', 'FREI', 'FREITAG', 'FREIZEIT', 'FREUEN', 'FREUNDLICH', 'FRISCH', 'FRONT', 'FROST', 'FROST-PLUSPLUS', 'FRUEH', 'FRUEHLING', 'FUEHLEN', 'FUEHLEN-WIE', 'FUENF', 'FUENF-TAGE', 'FUENF-UHR', 'FUENFHUNDERT', 'FUENFTE', 'FUENFZEHN', 'FUENFZIG', 'FUER', 'FUER-ALLE', 'FUER-UNS', 'G', 'GANZTAGS', 'GEBEN', 'GEBIRGE', 'GEFAHR', 'GEFRIEREN', 'GEHEN', 'GEHOERT', 'GEHT-SO', 'GELB', 'GEMISCHT', 'GEMUETLICH', 'GENAU', 'GENIESSEN', 'GENUG', 'GERADE', 'GESAMT', 'GESCHWINDIGKEIT', 'GESTERN', 'GETRENNT', 'GEWESEN', 'GEWITTER', 'GEWITTER-PLUSPLUS', 'GEWOHNT', 'GIPFEL', 'GLATT', 'GLATTEIS', 'GLAUBEN', 'GLEICH', 'GLEICH-BLEIBEN', 'GLEICH-PLUSPLUS', 'GLEICH-WIE', 'GLUECK', 'GOLD', 'GOTT', 'GRAD', 'GRAD-PLUSPLUS', 'GRAU', 'GRAUPEL', 'GRAUPEL-PLUSPLUS', 'GRENZE', 'GRIECHENLAND', 'GROB', 'GROSS', 'GROSSBRITANNIEN', 'GRUEN', 'GRUND', 'GUT', 'GUT-ABEND', 'H', 'HAAR', 'HABEN', 'HABEN2', 'HAELFTE', 'HAFTEN', 'HAGEL', 'HAGEL-PLUSPLUS', 'HALB', 'HALLO', 'HALTEN', 'HAMBURG', 'HANNOVER', 'HARMLOS', 'HART', 'HAUPT', 'HAUPTSAECHLICH', 'HAVEN', 'HEFTIG', 'HEILIG', 'HEILIGE', 'HEISS', 'HELL', 'HERAB', 'HERBST', 'HERREN', 'HERVORRAGEND', 'HERZ', 'HESSEN', 'HEUTE', 'HEUTE-ABEND', 'HEUTE-MITTAG', 'HEUTE-NACHT', 'HIER', 'HIMMEL', 'HINDERNIS', 'HOCH', 'HOCHWASSER', 'HOEHE', 'HOEHER', 'HOEREN', 'HOFFEN', 'HOLEN', 'HOLLAND', 'HOLSTEIN', 'HUND', 'HUNDERT', 'HUT', 'I', 'ICH', 'IHR', 'IM', 'IM-LAUFE', 'IM-MOMENT', 'IM-VERLAUF', 'IMMER', 'IN', 'IN-BESTIMMT-ZEIT', 'IN-DIESE-WOCHE', 'IN-KOMMEND', 'IN-KOMMEND-TAG', 'IN-KOMMEND-ZEIT', 'IN-KUERZE', 'IN-PAAR-TAG', 'IN-PAAR-TAGE-SPAETER', 'INFORMIEREN', 'INNERHALB', 'INSEL', 'INSEL-PLUSPLUS', 'INSGESAMT', 'INTERESSANT', 'INTERNET', 'IRGENDWANN', 'IRLAND', 'ISLAND', 'ITALIEN', 'IX', 'J', 'JA', 'JAHR', 'JANUAR', 'JEDEN-TAG', 'JETZT', 'JULI', 'JUNI', 'K', 'KALT', 'KALT-PLUSPLUS', 'KALTFRONT', 'KANADA', 'KANAL', 'KANN', 'KAPUTTGEGANGEN', 'KARFREITAG', 'KAUM', 'KAUM-PLUSPLUS', 'KEIN', 'KIEL', 'KILOMETER', 'KLAPPEN', 'KLAR', 'KLAR-PLUSPLUS', 'KLEIN', 'KLEINIGKEIT', 'KNAPP', 'KOBLENZ', 'KOELN', 'KOENNEN', 'KOENNEN-PLUSPLUS', 'KOERPER', 'KOERPER-PLUSPLUS', 'KOMMA', 'KOMMEN', 'KOMMEN-PLUSPLUS', 'KOMPLETT', 'KONSTANT', 'KORB', 'KRAEFTIG', 'KRATZEN', 'KRISE', 'KROATIEN', 'KUCHEN', 'KUEHL', 'KUEHL-PLUSPLUS', 'KUEHLER', 'KUESTE', 'KURVE', 'KURZ', 'L', 'LAERM-PLUSPLUS', 'LAGE', 'LAHM', 'LAND', 'LANDSCHAFT', 'LANG', 'LANGSAM', 'LAUFEN', 'LAUSITZ', 'LEBEN', 'LEICHT', 'LEIDER', 'LEIPZIG', 'LESEN', 'LETZTE', 'LETZTE-WOCHE', 'LEUTE', 'LICHT', 'LIEB', 'LIEGEN', 'LITER', 'LOCH', 'LOCH-PLUSPLUS', 'LOCKER', 'LOS', 'LUECKE', 'LUFT', 'M', 'MACHEN', 'MAERZ', 'MAESSIG', 'MAESSIG-PLUSPLUS', 'MAI', 'MAINZ', 'MAL', 'MAL-AB-ZU', 'MAL-PLUSPLUS', 'MANCHMAL', 'MANCHMAL-PLUSPLUS', 'MARKT', 'MASCHINE', 'MATSCH', 'MAXIMAL', 'MECKLENBURG', 'MECKLENBURG-VORPOMMERN', 'MEER', 'MEHR', 'MEHR-PLUSPLUS', 'MEHR-WENIG', 'MEHRMALS', 'MEINEN', 'MEISTENS', 'MERKEN', 'MERKWUERDIG', 'MESSEN', 'METER', 'MILD', 'MINDESTENS', 'MINUS', 'MISCHUNG', 'MIT', 'MITBEKOMMEN', 'MITEILEN', 'MITNEHMEN', 'MITTAG', 'MITTE', 'MITTEGEBIRGE', 'MITTEILEN', 'MITTWOCH', 'MITZIEHEN', 'MM', 'MOEGEN', 'MOEGLICH', 'MOMENT', 'MOND', 'MONTAG', 'MORGEN', 'MORGEN-FRUEH', 'MORGENS', 'MOSKAU', 'MUENCHEN', 'MUENSTER', 'MUESSEN', 'MUND', 'N', 'NACH', 'NACH-HAUSE', 'NACHMITTAG', 'NACHT', 'NAECHSTE', 'NAECHSTE-WOCHE', 'NAEHE', 'NAH', 'NASS', 'NATUR', 'NEBEL', 'NEIN', 'NEU', 'NEUN', 'NEUNHUNDERT', 'NEUNTE', 'NEUNZEHN', 'NEUNZEHNTE', 'NEUNZIG', 'NICHT', 'NICHT-ACHTZEHN', 'NICHT-BEDEUTEN', 'NICHT-DEUTSCH', 'NICHT-DIESE-WOCHE', 'NICHT-EINFLUSS', 'NICHT-FROST', 'NICHT-FUEHLEN', 'NICHT-FUENF', 'NICHT-GEMUETLICH', 'NICHT-GENUG', 'NICHT-GEWITTER', 'NICHT-GLEICH', 'NICHT-GRAD', 'NICHT-HABEN', 'NICHT-HART', 'NICHT-HEISS', 'NICHT-HOEHE', 'NICHT-IMMER', 'NICHT-KALT', 'NICHT-KAUM', 'NICHT-KEIN', 'NICHT-KLAR', 'NICHT-KOENNEN', 'NICHT-KOMMEN', 'NICHT-MEHR', 'NICHT-MEISTENS', 'NICHT-NACHT', 'NICHT-NAJA', 'NICHT-NEBEL', 'NICHT-NEIN', 'NICHT-NICHT-MEHR', 'NICHT-NICHT-NUR', 'NICHT-NICHTS', 'NICHT-NOCH-NICHT', 'NICHT-NORD', 'NICHT-NULL', 'NICHT-REGEN', 'NICHT-REGEN-PLUSPLUS', 'NICHT-REGION', 'NICHT-RICHTIG', 'NICHT-SCHEINEN', 'NICHT-SCHLECHT', 'NICHT-SCHLIMM', 'NICHT-SCHNEE', 'NICHT-SCHOEN', 'NICHT-SEHEN', 'NICHT-SELTEN', 'NICHT-SONNE', 'NICHT-SPUEREN', 'NICHT-STARK', 'NICHT-TEIL', 'NICHT-THEMA', 'NICHT-TROCKEN', 'NICHT-VIEL', 'NICHT-VON', 'NICHT-WARM', 'NICHT-WARTEN', 'NICHT-ZU-WARM', 'NICHT-cl-KOMMEN', 'NICHTALP-AUCH', 'NICHTALP-BRAUCHEN', 'NICHTALP-GIBT', 'NICHTALP-KEIN', 'NICHTALP-KOENNEN', 'NICHTALP-MUSS', 'NICHTALP-NICHT', 'NICHTALP-PASSEN', 'NICHTALP-STIMMT', 'NICHTS', 'NIEDER', 'NIEDERSACHSEN', 'NIEDERUNG', 'NIEDRIG', 'NIESELREGEN', 'NN', 'NOCH', 'NOCH-MEHR', 'NOCH-NICHT', 'NOCH-PLUSPLUS', 'NOCHEINMAL', 'NORD', 'NORDOST', 'NORDOSTRAUM', 'NORDPOL', 'NORDRAUM', 'NORDRHEIN', 'NORDRHEIN-WESTFALEN', 'NORDSEE', 'NORDWEST', 'NORDWESTRAUM', 'NORMAL', 'NORWEGEN', 'NOVEMBER', 'NRW', 'NULL', 'NUMMER', 'NUR', 'O', 'OB', 'OBEN', 'OBER', 'OBWOHL', 'ODER', 'OESTERREICH', 'OFT', 'OFT-PLUSPLUS', 'OHNE', 'OKTOBER', 'ORANGE', 'ORKAN', 'ORT', 'ORT-PLUSPLUS', 'OST', 'OSTERN', 'OSTRAUM', 'P', 'PAAR', 'PAAR-TAG', 'PASSEN', 'PASSIEREN', 'PAUSE', 'PFALZ', 'PFEIL', 'PFINGSTEN', 'PFLANZE', 'PLOETZLICH', 'PLUS', 'POLEN', 'POMMERN', 'PORTUGAL', 'POSITIV', 'PRO', 'PROBLEM', 'PROZENT', 'PUENKTLICH', 'PULLOVER', 'PUNKT', 'QUADRAT', 'QUADRATMETER', 'QUELL', 'R', 'RAND', 'RAUM', 'RAUSFALLEN', 'RECHNEN', 'REDUZIEREN', 'REGEN', 'REGEN-AUF-ALPEN', 'REGEN-PLUSPLUS', 'REGION', 'REGION-PLUSPLUS', 'REIF', 'REIN', 'REKORD', 'REST', 'RHEIN', 'RHEINDLAND', 'RHEINLAND', 'RHEINLAND-PFALZ', 'RICHTIG', 'RICHTUNG', 'RISIKO', 'RODELN', 'ROSTOCK', 'ROT', 'RUECKEN', 'RUEGEN', 'RUHIG', 'RUHRGEBIET', 'RUMAENIEN', 'RUND-UM-DIE-UHR', 'RUSSLAND', 'S', 'S0NNE', 'SAARLAND', 'SACHSEN', 'SAGE', 'SAGEN', 'SAMSTAG', 'SAND', 'SAUER', 'SCH', 'SCHADEN', 'SCHAETZEN', 'SCHAFFEN', 'SCHAU-MAL', 'SCHAUEN', 'SCHAUER', 'SCHAUER-PLUSPLUS', 'SCHEINEN', 'SCHEINEN-PLUSPLUS', 'SCHIRM', 'SCHLAF', 'SCHLAGSAHNE', 'SCHLECHT', 'SCHLECHTER', 'SCHLESWIG', 'SCHLIMM', 'SCHLIMMER', 'SCHLUSS', 'SCHMELZEN', 'SCHNEE', 'SCHNEE-PLUSPLUS', 'SCHNEIEN', 'SCHNEIEN-PLUSPLUS', 'SCHNELL', 'SCHOEN', 'SCHON', 'SCHON-WIEDER', 'SCHOTTLAND', 'SCHRANK', 'SCHUETZEN', 'SCHULD', 'SCHWACH', 'SCHWACH-PLUSPLUS', 'SCHWARZ', 'SCHWEDEN', 'SCHWER', 'SCHWIERIG', 'SCHWIERIG-PLUSPLUS', 'SCHWITZEN', 'SCHWUEL', 'SECHS', 'SECHSHUNDERT', 'SECHSTE', 'SECHSZEHN', 'SEE', 'SEHEN', 'SEHR', 'SEI-DANK', 'SEIT', 'SEITE', 'SELBE', 'SELTEN', 'SEPTEMBER', 'SICHER', 'SIE', 'SIEBEN', 'SIEBEN-WOCHE', 'SIEBENHUNDERT', 'SIEBTE', 'SIEBZEHN', 'SIEBZIG', 'SINKEN', 'SITUATION', 'SITZ', 'SKANDINAVIEN', 'SKI', 'SO', 'SO-BLEIBEN', 'SOLL', 'SOMMER', 'SONNE', 'SONNE-PLUSPLUS', 'SONNENUNTERGANG', 'SONNTAG', 'SONST', 'SOWIESO', 'SPAET', 'SPAETER', 'SPAETESTEN', 'SPANIEN', 'SPAZIEREN', 'SPEZIELL', 'SPITZE', 'SPORT', 'SPRIESSEN', 'SPUEREN', 'STABIL', 'STADT', 'STAMM', 'STARK', 'START', 'STAU', 'STEHEN', 'STEIGEN', 'STEIGEN-OBEN', 'STEIGEN-RUNTER', 'STEIGEN-RUNTER-PLUSPLUS', 'STEIN', 'STELLENWEISE', 'STERN', 'STERN-PLUSPLUS', 'STIMMT', 'STOCKEN', 'STOERUNG', 'STRAHLEN', 'STRASSE', 'STRENG', 'STROEMEN', 'STROM', 'STUNDE', 'STURM', 'STURM-PLUSPLUS', 'STUTTGART', 'SUCHEN', 'SUED', 'SUED-PLUSPLUS', 'SUEDOST', 'SUEDOSTRAUM', 'SUEDRAUM', 'SUEDWEST', 'SUEDWESTRAUM', 'SUPER', 'SYLT', 'T', 'T-SHIRT', 'TAG', 'TAGE', 'TAGSUEBER', 'TAL', 'TANKEN', 'TATSAECHLICH', 'TAU', 'TAUEN', 'TAUGEN', 'TAUSEND', 'TEIL', 'TEILWEISE', 'TEMPERATUR', 'TEMPERATUR-PLUSPLUS', 'TEXT', 'THEMA', 'THUERINGEN', 'TIEF', 'TJA', 'TOLL', 'TRAUM', 'TRENNEN', 'TROCKEN', 'TROPFEN', 'TROPFEN-PLUSPLUS', 'TROPISCH', 'TROTZDEM', 'TRUEB', 'TRUEB-PLUSPLUS', 'TSCHECHIEN', 'TSCHUESS', 'TUERKEI', 'TUERKEI-PLUSPLUS', 'TUN', 'TYPISCH', 'U', 'UEBER', 'UEBER-UNTER', 'UEBERALL', 'UEBERFLUTUNG', 'UEBERMORGEN', 'UEBERSCHWEMMUNG', 'UEBERWIEGEND', 'UHR', 'UM', 'UM-PLUSPLUS', 'UMKEHREN', 'UMSTAENDLICH', 'UMSTELLEN', 'UMWANDELN', 'UND', 'UND-DANN', 'UND-SO-WEITER', 'UNGARN', 'UNGEFAEHR', 'UNGEMUETLICH', 'UNSER', 'UNSICHER', 'UNTEN', 'UNTER', 'UNTERNEHMEN', 'UNTERSCHIED', 'UNTERSCHIED-PLUSPLUS', 'UNWAHRSCHEINLICH', 'UNWETTER', 'URLAUB', 'V', 'VERAENDERN', 'VERANTWORTLICH', 'VERBINDEN', 'VERBREITEN', 'VERDICHTEN', 'VEREINZELT', 'VERGLEICH', 'VERKEHR', 'VERLAUFEN', 'VERMEIDEN', 'VERRINGERN', 'VERSCHIEBEN', 'VERSCHIEDEN', 'VERSCHWINDEN', 'VERSCHWINDEN-PLUSPLUS', 'VERSPAETET', 'VERSUCHEN', 'VERTEILEN', 'VERTREIBEN', 'VERWOEHNT', 'VIDEO', 'VIEL', 'VIELLEICHT', 'VIER', 'VIERHUNDERT', 'VIERTE', 'VIERZEHN', 'VIERZIG', 'VOGEL', 'VOLL', 'VON', 'VOR', 'VOR-ALLEM', 'VOR-LETZTEN-TAGEN', 'VORAUS', 'VORAUSSAGE', 'VORBEI', 'VORBEREITEN', 'VORDERSCHEIBE', 'VORHER', 'VORMITTAG', 'VORPOMMERN', 'VORSICHT', 'VORSTELLEN', 'VORTEIL', 'VORUEBERGEHEND', 'W', 'WACHSEN', 'WAHR', 'WAHRSCHEINLICH', 'WALD', 'WANN', 'WAR', 'WARM', 'WARNUNG', 'WARSCHEINLICH', 'WARTEN', 'WARUM', 'WAS', 'WASCH', 'WASSER', 'WASSER-STEIGEN', 'WECHSEL', 'WECHSELHAFT', 'WECHSELHAFT-PLUSPLUS', 'WEG', 'WEHEN', 'WEHEN-PLUSPLUS', 'WEIBER', 'WEIHNACHT', 'WEIHNACHTEN', 'WEIL', 'WEIN', 'WEIT', 'WEIT-SEHEN', 'WEITER', 'WENIG', 'WENIGER', 'WENN', 'WER', 'WERDEN', 'WERT', 'WESER', 'WEST', 'WESTRAUM', 'WETTER', 'WICHTIG', 'WIE', 'WIE-AUSSEHEN', 'WIE-GEBLIEBEN', 'WIE-IMMER', 'WIE-IMMER-PLUSPLUS', 'WIE-LANG', 'WIEDER', 'WIEDER-ZURUECK', 'WIESE', 'WIEVIEL', 'WIND', 'WIND-PLUSPLUS', 'WINTER', 'WIR', 'WIRBEL', 'WIRBELSTURM', 'WIRKEN', 'WIRKLICH', 'WIRTSCHAFT', 'WISSEN', 'WO', 'WOCHE', 'WOCHENENDE', 'WOHER', 'WOHNEN', 'WOLKE', 'WOLKE-PLUSPLUS', 'WUENSCHEN', 'WUERTTEMBERG', 'WUERZ', 'WUNDERBAR', 'WUNDERSCHOEN', 'X', 'Y', 'Z', 'ZAHL', 'ZEHN', 'ZEHNTE', 'ZEIGEN', 'ZEIGEN-BILDSCHIRM', 'ZEIT', 'ZEITSKALA', 'ZENTIMETER', 'ZENTRUM', 'ZIEHEN', 'ZONE', 'ZOOM', 'ZU', 'ZU-ENDE', 'ZU-HAUSE', 'ZU-TUN', 'ZUERST', 'ZUFRIEDEN', 'ZUG', 'ZUM-BEISPIEL', 'ZUM-GLUECK', 'ZURUECK', 'ZUSAMMEN', 'ZUSAMMENHANG', 'ZUSAMMENSTOSS', 'ZUSAMMENTREFFEN', 'ZUSCHAUER', 'ZWANZIG', 'ZWEI', 'ZWEI-TAG', 'ZWEIDREISSIG', 'ZWEIFEL', 'ZWEITE', 'ZWEIZWANZIG', 'ZWISCHEN', 'ZWISCHEN-NULL', 'ZWOELF', 'ZWOELFTE', '__EMOTION__', '__LEFTHAND__', '__OFF__', '__ON__', '__PU__', 'cl-KOMMEN', 'cl-KOMMEN-PLUSPLUS', 'cl-NULL', 'lh-HOCH', 'loc-ALPEN', 'loc-AUFLOESEN', 'loc-AUFLOESEN-PLUSPLUS', 'loc-AUFTEILEN', 'loc-AUFZIEHEN', 'loc-AUFZIEHEN-PLUSPLUS', 'loc-AUSWAEHLEN', 'loc-BEREICH', 'loc-BERG', 'loc-DRUCKFLAECHE', 'loc-FLAECHENDECKEND', 'loc-FLUSS', 'loc-GLITZERN', 'loc-GRAD', 'loc-GRENZE', 'loc-HABEN', 'loc-HABEN2-PLUSPLUS', 'loc-INSEL-PLUSPLUS', 'loc-IRGENDWO', 'loc-IX', 'loc-KARTE', 'loc-KOMMEN', 'loc-KUESTE', 'loc-LAND', 'loc-LAND-PLUSPLUS', 'loc-LOCH-PLUSPLUS', 'loc-MEER', 'loc-MINUS', 'loc-MINUS-PLUSPLUS', 'loc-MITTE', 'loc-NEBEL', 'loc-NEBEN', 'loc-NEUN', 'loc-NORD', 'loc-NORDOST', 'loc-NORDWEST', 'loc-NULL', 'loc-OBEN', 'loc-ORT', 'loc-ORT-PLUSPLUS', 'loc-OST', 'loc-OSTBAYERN', 'loc-POSITION', 'loc-POSITION-PLUSPLUS', 'loc-RAUM', 'loc-REGEN', 'loc-REGEN-PLUSPLUS', 'loc-REGION', 'loc-REGION-PLUSPLUS', 'loc-SCHWACH-PLUSPLUS', 'loc-SECHS', 'loc-SEE', 'loc-SIEBEN', 'loc-SIEBENZEHN', 'loc-SONNE-SCHEINEN', 'loc-STELLENWEISE-PLUSPLUS', 'loc-STREIFEN', 'loc-STROEMEN', 'loc-STURM', 'loc-SUED', 'loc-SUEDOST', 'loc-SUEDRAUM', 'loc-SUEDWEST', 'loc-TAL', 'loc-TIEF', 'loc-TROCKEN', 'loc-UEBERALL', 'loc-UNTEN', 'loc-VERSCHIEBEN', 'loc-VIER', 'loc-WEHEN', 'loc-WEST', 'loc-WIND', 'loc-WOLKE', 'loc-ZEIGEN', 'loc-ZONE', 'loc-ZWEI', 'loc-ZWISCHEN', 'loc-ZWOELF', 'poss-BEI-UNS', 'poss-EUCH', 'poss-MEIN', 'poss-SEIN', 'qu-DU', 'qu-MOEGEN', 'qu-STEIGEN'])"
      ]
     },
     "execution_count": 54,
     "metadata": {},
     "output_type": "execute_result"
    }
   ],
   "source": [
    "vocab.table.keys()"
   ]
  },
  {
   "cell_type": "code",
   "execution_count": 50,
   "metadata": {},
   "outputs": [
    {
     "name": "stdout",
     "output_type": "stream",
     "text": [
      "ICH OSTERN WETTER ZUFRIEDEN MITTAG TEMPERATUR SUED WARM <UNK> NICHT\n"
     ]
    }
   ],
   "source": [
    "string_from_label = lambda label: \" \".join(\n",
    "    [inv_vocab[i] if (i) in inv_vocab else \"<UNK>\" for i in dval[0][\"text\"]]\n",
    ")\n",
    "\n",
    "print(string_from_label(label[0].numpy()))"
   ]
  },
  {
   "cell_type": "code",
   "execution_count": 37,
   "metadata": {},
   "outputs": [
    {
     "data": {
      "text/plain": [
       "1231"
      ]
     },
     "execution_count": 37,
     "metadata": {},
     "output_type": "execute_result"
    }
   ],
   "source": [
    "len(inv_vocab)"
   ]
  },
  {
   "cell_type": "code",
   "execution_count": 42,
   "metadata": {},
   "outputs": [
    {
     "data": {
      "text/plain": [
       "'qu-STEIGEN'"
      ]
     },
     "execution_count": 42,
     "metadata": {},
     "output_type": "execute_result"
    }
   ],
   "source": [
    "inv_vocab[len(inv_vocab) - 1]"
   ]
  },
  {
   "cell_type": "code",
   "execution_count": 6,
   "metadata": {},
   "outputs": [
    {
     "data": {
      "text/plain": [
       "1231"
      ]
     },
     "execution_count": 6,
     "metadata": {},
     "output_type": "execute_result"
    }
   ],
   "source": [
    "len(inv_vocab)"
   ]
  },
  {
   "cell_type": "code",
   "execution_count": 12,
   "metadata": {},
   "outputs": [
    {
     "data": {
      "text/plain": [
       "5672"
      ]
     },
     "execution_count": 12,
     "metadata": {},
     "output_type": "execute_result"
    }
   ],
   "source": [
    "len(dl)"
   ]
  },
  {
   "cell_type": "code",
   "execution_count": 18,
   "metadata": {},
   "outputs": [
    {
     "data": {
      "text/plain": [
       "1231"
      ]
     },
     "execution_count": 18,
     "metadata": {},
     "output_type": "execute_result"
    }
   ],
   "source": [
    "batch.keys()\n",
    "\n",
    "vocab_dict = {k: v for v, k in vocab.table.items()}\n",
    "len(vocab_dict)"
   ]
  },
  {
   "cell_type": "code",
   "execution_count": null,
   "metadata": {},
   "outputs": [],
   "source": [
    "phrase = [vocab_dict[i] for i in batch[\"text\"][0].numpy()]"
   ]
  },
  {
   "cell_type": "code",
   "execution_count": 13,
   "metadata": {},
   "outputs": [],
   "source": [
    "from torchmetrics import WordErrorRate"
   ]
  },
  {
   "cell_type": "code",
   "execution_count": 16,
   "metadata": {},
   "outputs": [
    {
     "name": "stdout",
     "output_type": "stream",
     "text": [
      "Word Error Rate: 0.40\n"
     ]
    }
   ],
   "source": [
    "# Initialize WER metric\n",
    "wer = WordErrorRate()\n",
    "\n",
    "# Ground truth and predictions\n",
    "ground_truth = [\"hello world\", \"sign language recognition\"]\n",
    "predictions = [\"helo world\", \"sign recognition\"]\n",
    "\n",
    "# Compute WER\n",
    "wer_score = wer(predictions, ground_truth)\n",
    "print(f\"Word Error Rate: {wer_score:.2f}\")"
   ]
  }
 ],
 "metadata": {
  "kernelspec": {
   "display_name": ".venv",
   "language": "python",
   "name": "python3"
  },
  "language_info": {
   "codemirror_mode": {
    "name": "ipython",
    "version": 3
   },
   "file_extension": ".py",
   "mimetype": "text/x-python",
   "name": "python",
   "nbconvert_exporter": "python",
   "pygments_lexer": "ipython3",
   "version": "3.11.10"
  }
 },
 "nbformat": 4,
 "nbformat_minor": 2
}
